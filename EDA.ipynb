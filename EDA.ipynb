{
 "cells": [
  {
   "cell_type": "code",
   "execution_count": 7,
   "id": "cc0dda6c",
   "metadata": {},
   "outputs": [],
   "source": [
    "Input_file = ('/Users/niranjanipandey/Documents/GitHub/Maintenance-Pred/canssi-ncsc-ferry-delays/train.csv')"
   ]
  },
  {
   "cell_type": "markdown",
   "id": "0b2c65bf",
   "metadata": {},
   "source": [
    "# Load Data"
   ]
  },
  {
   "cell_type": "code",
   "execution_count": 8,
   "id": "891efbab",
   "metadata": {},
   "outputs": [],
   "source": [
    "import pandas as pd\n",
    "import numpy as np"
   ]
  },
  {
   "cell_type": "code",
   "execution_count": 9,
   "id": "1eca3020",
   "metadata": {},
   "outputs": [],
   "source": [
    "df_orig = pd.read_csv(Input_file)"
   ]
  },
  {
   "cell_type": "markdown",
   "id": "6aa6ad1b",
   "metadata": {},
   "source": [
    "# Data Dimensions"
   ]
  },
  {
   "cell_type": "markdown",
   "id": "5c8d49fd",
   "metadata": {},
   "source": [
    "Within the train.csv, there are a total of 49,504 rows (ferry trips) and 11 columns. The coloumns are 'Vessel.Name', 'Scheduled.Departure', 'Status', 'Trip', 'Trip.Duration','Day', 'Month', 'Day.of.Month', 'Year', 'Full.Date', 'Delay.Indicator'. There are 20 unique vessels. "
   ]
  },
  {
   "cell_type": "code",
   "execution_count": 18,
   "id": "a3358d87",
   "metadata": {},
   "outputs": [
    {
     "data": {
      "text/plain": [
       "Index(['Vessel.Name', 'Scheduled.Departure', 'Status', 'Trip', 'Trip.Duration',\n",
       "       'Day', 'Month', 'Day.of.Month', 'Year', 'Full.Date', 'Delay.Indicator'],\n",
       "      dtype='object')"
      ]
     },
     "execution_count": 18,
     "metadata": {},
     "output_type": "execute_result"
    }
   ],
   "source": [
    "df_orig.shape\n",
    "df_orig.columns"
   ]
  },
  {
   "cell_type": "code",
   "execution_count": 11,
   "id": "081f6b56",
   "metadata": {},
   "outputs": [
    {
     "data": {
      "text/plain": [
       "Index(['Vessel.Name', 'Scheduled.Departure', 'Status', 'Trip', 'Trip.Duration',\n",
       "       'Day', 'Month', 'Day.of.Month', 'Year', 'Full.Date', 'Delay.Indicator'],\n",
       "      dtype='object')"
      ]
     },
     "execution_count": 11,
     "metadata": {},
     "output_type": "execute_result"
    }
   ],
   "source": [
    "df_orig.columns"
   ]
  },
  {
   "cell_type": "code",
   "execution_count": 19,
   "id": "ad9f72e2",
   "metadata": {},
   "outputs": [
    {
     "data": {
      "text/plain": [
       "array(['Tsawwassen to Swartz Bay', 'Tsawwassen to Southern Gulf Islands',\n",
       "       'Tsawwassen to Duke Point',\n",
       "       'Swartz Bay to Fulford Harbour (Saltspring Is.)',\n",
       "       'Swartz Bay to Southern Gulf Islands', 'Swartz Bay to Tsawwassen',\n",
       "       'Duke Point to Tsawwassen', 'Departure Bay to Horseshoe Bay',\n",
       "       'Horseshoe Bay to Snug Cove (Bowen Is.)',\n",
       "       'Horseshoe Bay to Departure Bay', 'Horseshoe Bay to Langdale',\n",
       "       'Langdale to Horseshoe Bay'], dtype=object)"
      ]
     },
     "execution_count": 19,
     "metadata": {},
     "output_type": "execute_result"
    }
   ],
   "source": [
    "df_orig['Trip'].unique()"
   ]
  }
 ],
 "metadata": {
  "kernelspec": {
   "display_name": "Python 3",
   "language": "python",
   "name": "python3"
  },
  "language_info": {
   "codemirror_mode": {
    "name": "ipython",
    "version": 3
   },
   "file_extension": ".py",
   "mimetype": "text/x-python",
   "name": "python",
   "nbconvert_exporter": "python",
   "pygments_lexer": "ipython3",
   "version": "3.8.8"
  }
 },
 "nbformat": 4,
 "nbformat_minor": 5
}
